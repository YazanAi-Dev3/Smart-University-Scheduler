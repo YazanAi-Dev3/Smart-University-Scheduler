{
 "cells": [
  {
   "cell_type": "markdown",
   "id": "becc2fa8",
   "metadata": {},
   "source": [
    "# Part 1: Generating the University Master Schedule\n",
    "\n",
    "This notebook handles the first major task: creating a conflict-free master schedule for all courses, teachers, and rooms using a Genetic Algorithm."
   ]
  },
  {
   "cell_type": "code",
   "execution_count": 16,
   "id": "d59db031",
   "metadata": {},
   "outputs": [],
   "source": [
    "import pandas as pd\n",
    "import logging\n",
    "import time\n",
    "import sys\n",
    "import os\n",
    "\n",
    "# Add the 'src' folder to the Python path\n",
    "# This assumes your notebook is in the main project folder, and 'src' is a subfolder.\n",
    "# If your notebook is in another location, you might need to adjust the path.\n",
    "module_path = os.path.abspath(os.path.join(os.getcwd(), 'src'))\n",
    "if module_path not in sys.path:\n",
    "    sys.path.append(module_path)\n",
    "\n",
    "# Now we can import our custom classes from the src folder\n",
    "from genetic_algorithm_schedulerPYGAD import DataPreparer, SchedulerGA"
   ]
  },
  {
   "cell_type": "code",
   "execution_count": 17,
   "id": "5b88f8db",
   "metadata": {},
   "outputs": [
    {
     "name": "stderr",
     "output_type": "stream",
     "text": [
      "2025-08-03 18:25:58,893 - INFO     - Logging is now configured for this notebook run.\n"
     ]
    }
   ],
   "source": [
    "# Configure a simple logger to print messages to the notebook's output.\n",
    "# We set the level to INFO to see high-level progress without too much detail.\n",
    "logging.basicConfig(\n",
    "    level=logging.INFO,\n",
    "    format='%(asctime)s - %(levelname)-8s - %(message)s',\n",
    "    # By default, basicConfig logs to the stream (console/notebook output),\n",
    "    # so we don't need file handlers for this demonstration.\n",
    "    force=True  # Use force=True to re-apply the configuration in a notebook environment\n",
    ")\n",
    "\n",
    "logging.info(\"Logging is now configured for this notebook run.\")"
   ]
  },
  {
   "cell_type": "markdown",
   "id": "2dcfa91f",
   "metadata": {},
   "source": [
    "## 1. Load Input Data\n",
    "\n",
    "Here, we'll load all the necessary CSV files into pandas DataFrames. These files contain the core information about courses, rooms, teachers, and their preferences."
   ]
  },
  {
   "cell_type": "code",
   "execution_count": 18,
   "id": "8537dff4",
   "metadata": {},
   "outputs": [
    {
     "name": "stderr",
     "output_type": "stream",
     "text": [
      "2025-08-03 18:25:58,933 - INFO     - All data files loaded successfully.\n"
     ]
    },
    {
     "name": "stdout",
     "output_type": "stream",
     "text": [
      "Sample of the 'courses' data:\n"
     ]
    },
    {
     "data": {
      "text/html": [
       "<div>\n",
       "<style scoped>\n",
       "    .dataframe tbody tr th:only-of-type {\n",
       "        vertical-align: middle;\n",
       "    }\n",
       "\n",
       "    .dataframe tbody tr th {\n",
       "        vertical-align: top;\n",
       "    }\n",
       "\n",
       "    .dataframe thead th {\n",
       "        text-align: right;\n",
       "    }\n",
       "</style>\n",
       "<table border=\"1\" class=\"dataframe\">\n",
       "  <thead>\n",
       "    <tr style=\"text-align: right;\">\n",
       "      <th></th>\n",
       "      <th>course_id</th>\n",
       "      <th>course_name</th>\n",
       "      <th>lectures_per_week</th>\n",
       "    </tr>\n",
       "  </thead>\n",
       "  <tbody>\n",
       "    <tr>\n",
       "      <th>0</th>\n",
       "      <td>CS101</td>\n",
       "      <td>Intro to Programming</td>\n",
       "      <td>3</td>\n",
       "    </tr>\n",
       "    <tr>\n",
       "      <th>1</th>\n",
       "      <td>CS102</td>\n",
       "      <td>Data Structures</td>\n",
       "      <td>2</td>\n",
       "    </tr>\n",
       "    <tr>\n",
       "      <th>2</th>\n",
       "      <td>CS201</td>\n",
       "      <td>Database Systems</td>\n",
       "      <td>2</td>\n",
       "    </tr>\n",
       "    <tr>\n",
       "      <th>3</th>\n",
       "      <td>CS202</td>\n",
       "      <td>Computer Networks</td>\n",
       "      <td>2</td>\n",
       "    </tr>\n",
       "    <tr>\n",
       "      <th>4</th>\n",
       "      <td>CS301</td>\n",
       "      <td>Information Security</td>\n",
       "      <td>1</td>\n",
       "    </tr>\n",
       "  </tbody>\n",
       "</table>\n",
       "</div>"
      ],
      "text/plain": [
       "  course_id           course_name  lectures_per_week\n",
       "0     CS101  Intro to Programming                  3\n",
       "1     CS102       Data Structures                  2\n",
       "2     CS201      Database Systems                  2\n",
       "3     CS202     Computer Networks                  2\n",
       "4     CS301  Information Security                  1"
      ]
     },
     "metadata": {},
     "output_type": "display_data"
    }
   ],
   "source": [
    "DATA_PATH = 'mock_data/'\n",
    "\n",
    "try:\n",
    "    courses = pd.read_csv(f\"{DATA_PATH}courses.csv\")\n",
    "    classrooms = pd.read_csv(f\"{DATA_PATH}classrooms.csv\")\n",
    "    teacher_courses = pd.read_csv(f\"{DATA_PATH}teacher_courses.csv\")\n",
    "    teacher_preferences = pd.read_csv(f\"{DATA_PATH}teacher_preferences.csv\")\n",
    "\n",
    "    logging.info(\"All data files loaded successfully.\")\n",
    "\n",
    "    # Display the first few rows of the courses dataframe to verify\n",
    "    print(\"Sample of the 'courses' data:\")\n",
    "    display(courses.head())\n",
    "\n",
    "except FileNotFoundError as e:\n",
    "    logging.error(f\"FATAL: {e}. Please ensure the 'mock_data' folder exists and contains all required CSV files.\")"
   ]
  },
  {
   "cell_type": "markdown",
   "id": "c4513caf",
   "metadata": {},
   "source": [
    "## 2. Prepare Data for the Algorithm\n",
    "\n",
    "Now, we'll instantiate the `DataPreparer` class. This class takes our raw DataFrames and processes them into the specific data structures required by the genetic algorithm, like the final list of all individual lectures that need to be scheduled."
   ]
  },
  {
   "cell_type": "code",
   "execution_count": 19,
   "id": "47060543",
   "metadata": {},
   "outputs": [
    {
     "name": "stderr",
     "output_type": "stream",
     "text": [
      "2025-08-03 18:25:58,950 - INFO     - Initializing DataPreparer...\n",
      "2025-08-03 18:25:58,950 - INFO     - Data prepared: 14 total lectures to schedule.\n",
      "2025-08-03 18:25:58,950 - INFO     - DataPreparer initialized successfully.\n",
      "2025-08-03 18:25:58,950 - INFO     - DataPreparer object created successfully.\n"
     ]
    },
    {
     "name": "stdout",
     "output_type": "stream",
     "text": [
      "Total individual lectures to be scheduled: 14\n",
      "Total available timeslots: 45\n",
      "\n",
      "Sample of the final list of lectures to be scheduled:\n"
     ]
    },
    {
     "data": {
      "text/html": [
       "<div>\n",
       "<style scoped>\n",
       "    .dataframe tbody tr th:only-of-type {\n",
       "        vertical-align: middle;\n",
       "    }\n",
       "\n",
       "    .dataframe tbody tr th {\n",
       "        vertical-align: top;\n",
       "    }\n",
       "\n",
       "    .dataframe thead th {\n",
       "        text-align: right;\n",
       "    }\n",
       "</style>\n",
       "<table border=\"1\" class=\"dataframe\">\n",
       "  <thead>\n",
       "    <tr style=\"text-align: right;\">\n",
       "      <th></th>\n",
       "      <th>course_id</th>\n",
       "      <th>teacher_id</th>\n",
       "    </tr>\n",
       "  </thead>\n",
       "  <tbody>\n",
       "    <tr>\n",
       "      <th>0</th>\n",
       "      <td>CS101</td>\n",
       "      <td>1</td>\n",
       "    </tr>\n",
       "    <tr>\n",
       "      <th>1</th>\n",
       "      <td>CS101</td>\n",
       "      <td>1</td>\n",
       "    </tr>\n",
       "    <tr>\n",
       "      <th>2</th>\n",
       "      <td>CS101</td>\n",
       "      <td>1</td>\n",
       "    </tr>\n",
       "    <tr>\n",
       "      <th>3</th>\n",
       "      <td>CS202</td>\n",
       "      <td>1</td>\n",
       "    </tr>\n",
       "    <tr>\n",
       "      <th>4</th>\n",
       "      <td>CS202</td>\n",
       "      <td>1</td>\n",
       "    </tr>\n",
       "  </tbody>\n",
       "</table>\n",
       "</div>"
      ],
      "text/plain": [
       "  course_id  teacher_id\n",
       "0     CS101           1\n",
       "1     CS101           1\n",
       "2     CS101           1\n",
       "3     CS202           1\n",
       "4     CS202           1"
      ]
     },
     "metadata": {},
     "output_type": "display_data"
    }
   ],
   "source": [
    "try:\n",
    "    data_preparer = DataPreparer(courses, classrooms, teacher_courses, teacher_preferences)\n",
    "    logging.info(\"DataPreparer object created successfully.\")\n",
    "\n",
    "    # Display some stats from the prepared data to verify\n",
    "    print(f\"Total individual lectures to be scheduled: {len(data_preparer.lectures_to_schedule)}\")\n",
    "    print(f\"Total available timeslots: {len(data_preparer.timeslots)}\")\n",
    "    \n",
    "    print(\"\\nSample of the final list of lectures to be scheduled:\")\n",
    "    # We convert the list of dicts to a DataFrame for nice display\n",
    "    display(pd.DataFrame(data_preparer.lectures_to_schedule).head())\n",
    "\n",
    "except NameError:\n",
    "    logging.error(\"One of the required dataframes (courses, classrooms, etc.) is not defined. Please re-run the previous cell.\")\n",
    "except Exception as e:\n",
    "    logging.error(f\"An error occurred during data preparation: {e}\")"
   ]
  },
  {
   "cell_type": "markdown",
   "id": "e9b75c2f",
   "metadata": {},
   "source": [
    "## 3. Configure and Instantiate the Genetic Algorithm\n",
    "\n",
    "With the data prepared, we can now define the parameters for our genetic algorithm and create an instance of our main `SchedulerGA` class."
   ]
  },
  {
   "cell_type": "code",
   "execution_count": 20,
   "id": "b261edeb",
   "metadata": {},
   "outputs": [
    {
     "name": "stderr",
     "output_type": "stream",
     "text": [
      "2025-08-03 18:25:58,969 - INFO     - GA Parameters set: {'generations': 150, 'sol_per_pop': 1000, 'parents_mating': 50, 'mutation_percent': 10}\n"
     ]
    },
    {
     "name": "stdout",
     "output_type": "stream",
     "text": [
      "Genetic Algorithm parameters have been defined.\n"
     ]
    }
   ],
   "source": [
    "# Define GA Parameters\n",
    "ga_parameters = {\n",
    "    'generations': 150,\n",
    "    'sol_per_pop': 1000,\n",
    "    'parents_mating': 50,\n",
    "    'mutation_percent': 10\n",
    "}\n",
    "\n",
    "logging.info(f\"GA Parameters set: {ga_parameters}\")\n",
    "print(\"Genetic Algorithm parameters have been defined.\")"
   ]
  },
  {
   "cell_type": "code",
   "execution_count": 21,
   "id": "f8d1ae53",
   "metadata": {},
   "outputs": [
    {
     "name": "stderr",
     "output_type": "stream",
     "text": [
      "2025-08-03 18:25:58,980 - INFO     - Initializing SchedulerGA...\n",
      "2025-08-03 18:25:59,062 - INFO     - PyGAD instance created and configured.\n",
      "2025-08-03 18:25:59,062 - INFO     - SchedulerGA instance created and configured successfully.\n"
     ]
    },
    {
     "name": "stdout",
     "output_type": "stream",
     "text": [
      "Scheduler has been successfully initialized and is ready to run.\n"
     ]
    }
   ],
   "source": [
    "# Instantiate the SchedulerGA class\n",
    "\n",
    "try:\n",
    "    scheduler = SchedulerGA(data_preparer, ga_parameters)\n",
    "    logging.info(\"SchedulerGA instance created and configured successfully.\")\n",
    "    print(\"Scheduler has been successfully initialized and is ready to run.\")\n",
    "\n",
    "except Exception as e:\n",
    "    logging.error(f\"An error occurred during SchedulerGA initialization: {e}\")"
   ]
  },
  {
   "cell_type": "markdown",
   "id": "78604e3f",
   "metadata": {},
   "source": [
    "## 4. Run the Algorithm and Display Results\n",
    "\n",
    "This is the final step. We'll call the `.run()` method to start the evolution process. After the algorithm finishes, we will format and display the best schedule found. We will also save the output to `master_schedule.csv` for the next part of our project."
   ]
  },
  {
   "cell_type": "code",
   "execution_count": 22,
   "id": "d05a190e",
   "metadata": {},
   "outputs": [
    {
     "name": "stderr",
     "output_type": "stream",
     "text": [
      "2025-08-03 18:25:59,072 - INFO     - Starting the Genetic Algorithm evolution...\n",
      "2025-08-03 18:25:59,074 - INFO     - Starting Genetic Algorithm evolution...\n"
     ]
    },
    {
     "name": "stdout",
     "output_type": "stream",
     "text": [
      "The Genetic Algorithm is now running. This may take a few moments depending on the parameters...\n"
     ]
    },
    {
     "name": "stderr",
     "output_type": "stream",
     "text": [
      "2025-08-03 18:25:59,214 - INFO     - Generation 1 | Best Fitness: 0.000222\n",
      "2025-08-03 18:25:59,314 - INFO     - Generation 2 | Best Fitness: 0.000286\n",
      "2025-08-03 18:25:59,448 - INFO     - Generation 3 | Best Fitness: 0.000400\n",
      "2025-08-03 18:25:59,542 - INFO     - Generation 4 | Best Fitness: 0.000500\n",
      "2025-08-03 18:25:59,631 - INFO     - Generation 5 | Best Fitness: 0.000667\n",
      "2025-08-03 18:25:59,792 - INFO     - Generation 6 | Best Fitness: 0.001000\n",
      "2025-08-03 18:25:59,900 - INFO     - Generation 7 | Best Fitness: 0.001000\n",
      "2025-08-03 18:26:00,006 - INFO     - Generation 8 | Best Fitness: 0.002000\n",
      "2025-08-03 18:26:00,149 - INFO     - Generation 9 | Best Fitness: 0.002000\n",
      "2025-08-03 18:26:00,244 - INFO     - Generation 10 | Best Fitness: 0.002000\n",
      "2025-08-03 18:26:00,387 - INFO     - Generation 11 | Best Fitness: 0.002000\n",
      "2025-08-03 18:26:00,490 - INFO     - Generation 12 | Best Fitness: 0.002000\n",
      "2025-08-03 18:26:00,593 - INFO     - Generation 13 | Best Fitness: 0.002000\n",
      "2025-08-03 18:26:00,734 - INFO     - Generation 14 | Best Fitness: 0.002000\n",
      "2025-08-03 18:26:00,849 - INFO     - Generation 15 | Best Fitness: 0.002000\n",
      "2025-08-03 18:26:00,965 - INFO     - Generation 16 | Best Fitness: 0.002000\n",
      "2025-08-03 18:26:01,136 - INFO     - Generation 17 | Best Fitness: 0.002000\n",
      "2025-08-03 18:26:01,226 - INFO     - Generation 18 | Best Fitness: 0.002000\n",
      "2025-08-03 18:26:01,336 - INFO     - Generation 19 | Best Fitness: 0.002000\n",
      "2025-08-03 18:26:01,444 - INFO     - Generation 20 | Best Fitness: 0.002000\n",
      "2025-08-03 18:26:01,552 - INFO     - Generation 21 | Best Fitness: 0.002000\n",
      "2025-08-03 18:26:01,636 - INFO     - Generation 22 | Best Fitness: 0.002000\n",
      "2025-08-03 18:26:01,747 - INFO     - Generation 23 | Best Fitness: 0.002000\n",
      "2025-08-03 18:26:01,883 - INFO     - Generation 24 | Best Fitness: 0.002000\n",
      "2025-08-03 18:26:01,997 - INFO     - Generation 25 | Best Fitness: 0.002000\n",
      "2025-08-03 18:26:02,146 - INFO     - Generation 26 | Best Fitness: 0.002000\n",
      "2025-08-03 18:26:02,266 - INFO     - Generation 27 | Best Fitness: 0.002000\n",
      "2025-08-03 18:26:02,396 - INFO     - Generation 28 | Best Fitness: 0.002000\n",
      "2025-08-03 18:26:02,480 - INFO     - Generation 29 | Best Fitness: 0.002000\n",
      "2025-08-03 18:26:02,567 - INFO     - Generation 30 | Best Fitness: 0.002000\n",
      "2025-08-03 18:26:02,705 - INFO     - Generation 31 | Best Fitness: 0.002000\n",
      "2025-08-03 18:26:02,838 - INFO     - Generation 32 | Best Fitness: 0.002000\n",
      "2025-08-03 18:26:02,947 - INFO     - Generation 33 | Best Fitness: 0.002000\n",
      "2025-08-03 18:26:03,067 - INFO     - Generation 34 | Best Fitness: 0.002000\n",
      "2025-08-03 18:26:03,163 - INFO     - Generation 35 | Best Fitness: 0.002000\n",
      "2025-08-03 18:26:03,249 - INFO     - Generation 36 | Best Fitness: 0.002000\n",
      "2025-08-03 18:26:03,347 - INFO     - Generation 37 | Best Fitness: 0.002000\n",
      "2025-08-03 18:26:03,429 - INFO     - Generation 38 | Best Fitness: 0.002000\n",
      "2025-08-03 18:26:03,589 - INFO     - Generation 39 | Best Fitness: 0.002000\n",
      "2025-08-03 18:26:03,712 - INFO     - Generation 40 | Best Fitness: 0.002000\n",
      "2025-08-03 18:26:03,863 - INFO     - Generation 41 | Best Fitness: 0.002000\n",
      "2025-08-03 18:26:03,962 - INFO     - Generation 42 | Best Fitness: 0.002000\n",
      "2025-08-03 18:26:04,064 - INFO     - Generation 43 | Best Fitness: 0.002000\n",
      "2025-08-03 18:26:04,169 - INFO     - Generation 44 | Best Fitness: 0.002000\n",
      "2025-08-03 18:26:04,269 - INFO     - Generation 45 | Best Fitness: 0.002000\n",
      "2025-08-03 18:26:04,369 - INFO     - Generation 46 | Best Fitness: 0.002000\n",
      "2025-08-03 18:26:04,471 - INFO     - Generation 47 | Best Fitness: 0.002000\n",
      "2025-08-03 18:26:04,598 - INFO     - Generation 48 | Best Fitness: 0.002000\n",
      "2025-08-03 18:26:04,716 - INFO     - Generation 49 | Best Fitness: 0.002000\n",
      "2025-08-03 18:26:04,852 - INFO     - Generation 50 | Best Fitness: 0.002000\n",
      "2025-08-03 18:26:04,953 - INFO     - Generation 51 | Best Fitness: 0.002000\n",
      "2025-08-03 18:26:05,088 - INFO     - Generation 52 | Best Fitness: 0.002000\n",
      "2025-08-03 18:26:05,286 - INFO     - Generation 53 | Best Fitness: 0.002000\n",
      "2025-08-03 18:26:05,382 - INFO     - Generation 54 | Best Fitness: 0.002000\n",
      "2025-08-03 18:26:05,483 - INFO     - Generation 55 | Best Fitness: 0.002000\n",
      "2025-08-03 18:26:05,571 - INFO     - Generation 56 | Best Fitness: 0.002000\n",
      "2025-08-03 18:26:05,646 - INFO     - Generation 57 | Best Fitness: 0.002000\n",
      "2025-08-03 18:26:05,762 - INFO     - Generation 58 | Best Fitness: 0.002000\n",
      "2025-08-03 18:26:05,862 - INFO     - Generation 59 | Best Fitness: 0.002000\n",
      "2025-08-03 18:26:05,945 - INFO     - Generation 60 | Best Fitness: 0.002000\n",
      "2025-08-03 18:26:06,065 - INFO     - Generation 61 | Best Fitness: 0.002000\n",
      "2025-08-03 18:26:06,145 - INFO     - Generation 62 | Best Fitness: 0.002000\n",
      "2025-08-03 18:26:06,232 - INFO     - Generation 63 | Best Fitness: 0.002000\n",
      "2025-08-03 18:26:06,363 - INFO     - Generation 64 | Best Fitness: 0.002000\n",
      "2025-08-03 18:26:06,484 - INFO     - Generation 65 | Best Fitness: 0.002000\n",
      "2025-08-03 18:26:06,616 - INFO     - Generation 66 | Best Fitness: 0.002000\n",
      "2025-08-03 18:26:06,736 - INFO     - Generation 67 | Best Fitness: 0.002000\n",
      "2025-08-03 18:26:06,887 - INFO     - Generation 68 | Best Fitness: 0.002000\n",
      "2025-08-03 18:26:07,002 - INFO     - Generation 69 | Best Fitness: 0.002000\n",
      "2025-08-03 18:26:07,162 - INFO     - Generation 70 | Best Fitness: 0.002000\n",
      "2025-08-03 18:26:07,293 - INFO     - Generation 71 | Best Fitness: 0.002000\n",
      "2025-08-03 18:26:07,419 - INFO     - Generation 72 | Best Fitness: 0.002000\n",
      "2025-08-03 18:26:07,548 - INFO     - Generation 73 | Best Fitness: 0.002000\n",
      "2025-08-03 18:26:07,732 - INFO     - Generation 74 | Best Fitness: 0.002000\n",
      "2025-08-03 18:26:07,888 - INFO     - Generation 75 | Best Fitness: 0.002000\n",
      "2025-08-03 18:26:08,073 - INFO     - Generation 76 | Best Fitness: 0.002000\n",
      "2025-08-03 18:26:08,176 - INFO     - Generation 77 | Best Fitness: 0.002000\n",
      "2025-08-03 18:26:08,346 - INFO     - Generation 78 | Best Fitness: 0.002000\n",
      "2025-08-03 18:26:08,514 - INFO     - Generation 79 | Best Fitness: 0.002000\n",
      "2025-08-03 18:26:08,598 - INFO     - Generation 80 | Best Fitness: 0.002000\n",
      "2025-08-03 18:26:08,716 - INFO     - Generation 81 | Best Fitness: 0.002000\n",
      "2025-08-03 18:26:08,852 - INFO     - Generation 82 | Best Fitness: 0.002000\n",
      "2025-08-03 18:26:08,971 - INFO     - Generation 83 | Best Fitness: 0.002000\n",
      "2025-08-03 18:26:09,076 - INFO     - Generation 84 | Best Fitness: 0.002000\n",
      "2025-08-03 18:26:09,231 - INFO     - Generation 85 | Best Fitness: 0.002000\n",
      "2025-08-03 18:26:09,376 - INFO     - Generation 86 | Best Fitness: 0.002000\n",
      "2025-08-03 18:26:09,534 - INFO     - Generation 87 | Best Fitness: 0.002000\n",
      "2025-08-03 18:26:09,696 - INFO     - Generation 88 | Best Fitness: 0.002000\n",
      "2025-08-03 18:26:09,842 - INFO     - Generation 89 | Best Fitness: 0.002000\n",
      "2025-08-03 18:26:09,928 - INFO     - Generation 90 | Best Fitness: 0.002000\n",
      "2025-08-03 18:26:10,046 - INFO     - Generation 91 | Best Fitness: 0.002000\n",
      "2025-08-03 18:26:10,140 - INFO     - Generation 92 | Best Fitness: 0.002000\n",
      "2025-08-03 18:26:10,228 - INFO     - Generation 93 | Best Fitness: 0.002000\n",
      "2025-08-03 18:26:10,342 - INFO     - Generation 94 | Best Fitness: 0.002000\n",
      "2025-08-03 18:26:10,448 - INFO     - Generation 95 | Best Fitness: 0.002000\n",
      "2025-08-03 18:26:10,545 - INFO     - Generation 96 | Best Fitness: 0.002000\n",
      "2025-08-03 18:26:10,642 - INFO     - Generation 97 | Best Fitness: 0.002000\n",
      "2025-08-03 18:26:10,729 - INFO     - Generation 98 | Best Fitness: 0.002000\n",
      "2025-08-03 18:26:10,829 - INFO     - Generation 99 | Best Fitness: 0.002000\n",
      "2025-08-03 18:26:10,948 - INFO     - Generation 100 | Best Fitness: 0.002000\n",
      "2025-08-03 18:26:11,061 - INFO     - Generation 101 | Best Fitness: 0.002000\n",
      "2025-08-03 18:26:11,197 - INFO     - Generation 102 | Best Fitness: 0.002000\n",
      "2025-08-03 18:26:11,298 - INFO     - Generation 103 | Best Fitness: 0.002000\n",
      "2025-08-03 18:26:11,417 - INFO     - Generation 104 | Best Fitness: 0.002000\n",
      "2025-08-03 18:26:11,515 - INFO     - Generation 105 | Best Fitness: 0.002000\n",
      "2025-08-03 18:26:11,595 - INFO     - Generation 106 | Best Fitness: 0.002000\n",
      "2025-08-03 18:26:11,731 - INFO     - Generation 107 | Best Fitness: 0.002000\n",
      "2025-08-03 18:26:11,832 - INFO     - Generation 108 | Best Fitness: 0.002000\n",
      "2025-08-03 18:26:11,948 - INFO     - Generation 109 | Best Fitness: 0.002000\n",
      "2025-08-03 18:26:12,105 - INFO     - Generation 110 | Best Fitness: 0.002000\n",
      "2025-08-03 18:26:12,210 - INFO     - Generation 111 | Best Fitness: 0.002000\n",
      "2025-08-03 18:26:12,312 - INFO     - Generation 112 | Best Fitness: 0.002000\n",
      "2025-08-03 18:26:12,443 - INFO     - Generation 113 | Best Fitness: 0.002000\n",
      "2025-08-03 18:26:12,598 - INFO     - Generation 114 | Best Fitness: 0.002000\n",
      "2025-08-03 18:26:12,727 - INFO     - Generation 115 | Best Fitness: 0.002000\n",
      "2025-08-03 18:26:12,827 - INFO     - Generation 116 | Best Fitness: 0.002000\n",
      "2025-08-03 18:26:12,927 - INFO     - Generation 117 | Best Fitness: 0.002000\n",
      "2025-08-03 18:26:13,011 - INFO     - Generation 118 | Best Fitness: 0.002000\n",
      "2025-08-03 18:26:13,111 - INFO     - Generation 119 | Best Fitness: 0.002000\n",
      "2025-08-03 18:26:13,227 - INFO     - Generation 120 | Best Fitness: 0.002000\n",
      "2025-08-03 18:26:13,328 - INFO     - Generation 121 | Best Fitness: 0.002000\n",
      "2025-08-03 18:26:13,444 - INFO     - Generation 122 | Best Fitness: 0.002000\n",
      "2025-08-03 18:26:13,530 - INFO     - Generation 123 | Best Fitness: 0.002000\n",
      "2025-08-03 18:26:13,647 - INFO     - Generation 124 | Best Fitness: 0.002000\n",
      "2025-08-03 18:26:13,753 - INFO     - Generation 125 | Best Fitness: 0.002000\n",
      "2025-08-03 18:26:13,864 - INFO     - Generation 126 | Best Fitness: 0.002000\n",
      "2025-08-03 18:26:13,997 - INFO     - Generation 127 | Best Fitness: 0.002000\n",
      "2025-08-03 18:26:14,125 - INFO     - Generation 128 | Best Fitness: 0.002000\n",
      "2025-08-03 18:26:14,249 - INFO     - Generation 129 | Best Fitness: 0.002000\n",
      "2025-08-03 18:26:14,382 - INFO     - Generation 130 | Best Fitness: 0.002000\n",
      "2025-08-03 18:26:14,466 - INFO     - Generation 131 | Best Fitness: 0.002000\n",
      "2025-08-03 18:26:14,564 - INFO     - Generation 132 | Best Fitness: 0.002000\n",
      "2025-08-03 18:26:14,696 - INFO     - Generation 133 | Best Fitness: 0.002000\n",
      "2025-08-03 18:26:14,812 - INFO     - Generation 134 | Best Fitness: 0.002000\n",
      "2025-08-03 18:26:14,911 - INFO     - Generation 135 | Best Fitness: 0.002000\n",
      "2025-08-03 18:26:15,013 - INFO     - Generation 136 | Best Fitness: 0.002000\n",
      "2025-08-03 18:26:15,146 - INFO     - Generation 137 | Best Fitness: 0.002000\n",
      "2025-08-03 18:26:15,243 - INFO     - Generation 138 | Best Fitness: 0.002000\n",
      "2025-08-03 18:26:15,330 - INFO     - Generation 139 | Best Fitness: 0.002000\n",
      "2025-08-03 18:26:15,508 - INFO     - Generation 140 | Best Fitness: 0.002000\n",
      "2025-08-03 18:26:15,610 - INFO     - Generation 141 | Best Fitness: 0.002000\n",
      "2025-08-03 18:26:15,694 - INFO     - Generation 142 | Best Fitness: 0.002000\n",
      "2025-08-03 18:26:15,810 - INFO     - Generation 143 | Best Fitness: 0.002000\n",
      "2025-08-03 18:26:15,909 - INFO     - Generation 144 | Best Fitness: 0.002000\n",
      "2025-08-03 18:26:16,009 - INFO     - Generation 145 | Best Fitness: 0.002000\n",
      "2025-08-03 18:26:16,125 - INFO     - Generation 146 | Best Fitness: 0.002000\n",
      "2025-08-03 18:26:16,585 - INFO     - Generation 147 | Best Fitness: 0.002000\n",
      "2025-08-03 18:26:17,086 - INFO     - Generation 148 | Best Fitness: 0.002000\n",
      "2025-08-03 18:26:17,568 - INFO     - Generation 149 | Best Fitness: 0.002000\n",
      "2025-08-03 18:26:17,998 - INFO     - Generation 150 | Best Fitness: 0.002000\n",
      "2025-08-03 18:26:17,998 - INFO     - Genetic Algorithm finished.\n",
      "2025-08-03 18:26:18,443 - INFO     - GA execution finished in 19.37 seconds.\n"
     ]
    },
    {
     "name": "stdout",
     "output_type": "stream",
     "text": [
      "Execution complete in 19.37 seconds.\n"
     ]
    }
   ],
   "source": [
    "# Run the Genetic Algorithm\n",
    "\n",
    "logging.info(\"Starting the Genetic Algorithm evolution...\")\n",
    "print(\"The Genetic Algorithm is now running. This may take a few moments depending on the parameters...\")\n",
    "\n",
    "start_time = time.time()\n",
    "\n",
    "# The .run() method starts the GA and returns the best solution and its penalty score\n",
    "best_schedule, final_penalty = scheduler.run()\n",
    "\n",
    "end_time = time.time()\n",
    "execution_time = end_time - start_time\n",
    "\n",
    "logging.info(f\"GA execution finished in {execution_time:.2f} seconds.\")\n",
    "print(f\"Execution complete in {execution_time:.2f} seconds.\")"
   ]
  },
  {
   "cell_type": "code",
   "execution_count": 23,
   "id": "90e4983a",
   "metadata": {},
   "outputs": [
    {
     "name": "stdout",
     "output_type": "stream",
     "text": [
      "\n",
      "==================================================\n",
      "---  Best Schedule Found  ---\n",
      "==================================================\n",
      "Final Penalty Score: 500.00 (Note: a score of 0.0 means all hard constraints are met).\n"
     ]
    },
    {
     "data": {
      "text/html": [
       "<div>\n",
       "<style scoped>\n",
       "    .dataframe tbody tr th:only-of-type {\n",
       "        vertical-align: middle;\n",
       "    }\n",
       "\n",
       "    .dataframe tbody tr th {\n",
       "        vertical-align: top;\n",
       "    }\n",
       "\n",
       "    .dataframe thead th {\n",
       "        text-align: right;\n",
       "    }\n",
       "</style>\n",
       "<table border=\"1\" class=\"dataframe\">\n",
       "  <thead>\n",
       "    <tr style=\"text-align: right;\">\n",
       "      <th></th>\n",
       "      <th>Day</th>\n",
       "      <th>Time</th>\n",
       "      <th>course_id</th>\n",
       "      <th>teacher_id</th>\n",
       "      <th>room_id</th>\n",
       "    </tr>\n",
       "  </thead>\n",
       "  <tbody>\n",
       "    <tr>\n",
       "      <th>6</th>\n",
       "      <td>Monday</td>\n",
       "      <td>12:00</td>\n",
       "      <td>CS102</td>\n",
       "      <td>2</td>\n",
       "      <td>R101</td>\n",
       "    </tr>\n",
       "    <tr>\n",
       "      <th>5</th>\n",
       "      <td>Monday</td>\n",
       "      <td>15:00</td>\n",
       "      <td>CS102</td>\n",
       "      <td>2</td>\n",
       "      <td>R101</td>\n",
       "    </tr>\n",
       "    <tr>\n",
       "      <th>0</th>\n",
       "      <td>Sunday</td>\n",
       "      <td>08:00</td>\n",
       "      <td>CS101</td>\n",
       "      <td>1</td>\n",
       "      <td>R201</td>\n",
       "    </tr>\n",
       "    <tr>\n",
       "      <th>3</th>\n",
       "      <td>Sunday</td>\n",
       "      <td>10:00</td>\n",
       "      <td>CS202</td>\n",
       "      <td>1</td>\n",
       "      <td>R102</td>\n",
       "    </tr>\n",
       "    <tr>\n",
       "      <th>1</th>\n",
       "      <td>Sunday</td>\n",
       "      <td>11:00</td>\n",
       "      <td>CS101</td>\n",
       "      <td>1</td>\n",
       "      <td>R201</td>\n",
       "    </tr>\n",
       "    <tr>\n",
       "      <th>2</th>\n",
       "      <td>Sunday</td>\n",
       "      <td>12:00</td>\n",
       "      <td>CS101</td>\n",
       "      <td>1</td>\n",
       "      <td>R102</td>\n",
       "    </tr>\n",
       "    <tr>\n",
       "      <th>4</th>\n",
       "      <td>Sunday</td>\n",
       "      <td>13:00</td>\n",
       "      <td>CS202</td>\n",
       "      <td>1</td>\n",
       "      <td>R102</td>\n",
       "    </tr>\n",
       "    <tr>\n",
       "      <th>7</th>\n",
       "      <td>Thursday</td>\n",
       "      <td>16:00</td>\n",
       "      <td>CS301</td>\n",
       "      <td>3</td>\n",
       "      <td>R101</td>\n",
       "    </tr>\n",
       "    <tr>\n",
       "      <th>11</th>\n",
       "      <td>Tuesday</td>\n",
       "      <td>12:00</td>\n",
       "      <td>CS401</td>\n",
       "      <td>3</td>\n",
       "      <td>R101</td>\n",
       "    </tr>\n",
       "    <tr>\n",
       "      <th>10</th>\n",
       "      <td>Tuesday</td>\n",
       "      <td>13:00</td>\n",
       "      <td>CS401</td>\n",
       "      <td>3</td>\n",
       "      <td>R201</td>\n",
       "    </tr>\n",
       "    <tr>\n",
       "      <th>8</th>\n",
       "      <td>Tuesday</td>\n",
       "      <td>14:00</td>\n",
       "      <td>CS401</td>\n",
       "      <td>3</td>\n",
       "      <td>R201</td>\n",
       "    </tr>\n",
       "    <tr>\n",
       "      <th>9</th>\n",
       "      <td>Tuesday</td>\n",
       "      <td>15:00</td>\n",
       "      <td>CS401</td>\n",
       "      <td>3</td>\n",
       "      <td>R201</td>\n",
       "    </tr>\n",
       "    <tr>\n",
       "      <th>13</th>\n",
       "      <td>Wednesday</td>\n",
       "      <td>09:00</td>\n",
       "      <td>CS201</td>\n",
       "      <td>4</td>\n",
       "      <td>R102</td>\n",
       "    </tr>\n",
       "    <tr>\n",
       "      <th>12</th>\n",
       "      <td>Wednesday</td>\n",
       "      <td>10:00</td>\n",
       "      <td>CS201</td>\n",
       "      <td>4</td>\n",
       "      <td>R102</td>\n",
       "    </tr>\n",
       "  </tbody>\n",
       "</table>\n",
       "</div>"
      ],
      "text/plain": [
       "          Day   Time course_id  teacher_id room_id\n",
       "6      Monday  12:00     CS102           2    R101\n",
       "5      Monday  15:00     CS102           2    R101\n",
       "0      Sunday  08:00     CS101           1    R201\n",
       "3      Sunday  10:00     CS202           1    R102\n",
       "1      Sunday  11:00     CS101           1    R201\n",
       "2      Sunday  12:00     CS101           1    R102\n",
       "4      Sunday  13:00     CS202           1    R102\n",
       "7    Thursday  16:00     CS301           3    R101\n",
       "11    Tuesday  12:00     CS401           3    R101\n",
       "10    Tuesday  13:00     CS401           3    R201\n",
       "8     Tuesday  14:00     CS401           3    R201\n",
       "9     Tuesday  15:00     CS401           3    R201\n",
       "13  Wednesday  09:00     CS201           4    R102\n",
       "12  Wednesday  10:00     CS201           4    R102"
      ]
     },
     "metadata": {},
     "output_type": "display_data"
    },
    {
     "name": "stderr",
     "output_type": "stream",
     "text": [
      "2025-08-03 18:26:38,140 - INFO     - Master schedule saved to 'master_schedule.csv'\n"
     ]
    },
    {
     "name": "stdout",
     "output_type": "stream",
     "text": [
      "\n",
      " Schedule successfully saved to 'master_schedule.csv'\n"
     ]
    },
    {
     "name": "stderr",
     "output_type": "stream",
     "text": [
      "C:\\Users\\LOQ\\AppData\\Local\\Packages\\PythonSoftwareFoundation.Python.3.12_qbz5n2kfra8p0\\LocalCache\\local-packages\\Python312\\site-packages\\pygad\\visualize\\plot.py:120: UserWarning: No artists with labels found to put in legend.  Note that artists whose label start with an underscore are ignored when legend() is called with no argument.\n",
      "  matplt.legend()\n"
     ]
    },
    {
     "data": {
      "image/png": "[encoded data removed]",
      "text/plain": [
       "<Figure size 640x480 with 1 Axes>"
      ]
     },
     "metadata": {},
     "output_type": "display_data"
    },
    {
     "name": "stderr",
     "output_type": "stream",
     "text": [
      "2025-08-03 18:26:42,661 - INFO     - Fitness plot saved to master_schedule_fitness.png\n"
     ]
    },
    {
     "name": "stdout",
     "output_type": "stream",
     "text": [
      " Fitness plot saved to 'master_schedule_fitness.png'\n"
     ]
    }
   ],
   "source": [
    "# Format and Display the Best Schedule\n",
    "\n",
    "print(\"\\n\" + \"=\"*50)\n",
    "print(\"---  Best Schedule Found  ---\")\n",
    "print(\"=\"*50)\n",
    "\n",
    "print(f\"Final Penalty Score: {final_penalty:.2f} (Note: a score of 0.0 means all hard constraints are met).\")\n",
    "\n",
    "# Convert the schedule (which is a list of dictionaries) to a DataFrame for clean display\n",
    "schedule_df = pd.DataFrame(best_schedule)\n",
    "\n",
    "if not schedule_df.empty:\n",
    "    # Split the 'timeslot' into 'Day' and 'Time' for better readability\n",
    "    schedule_df[['Day', 'Time']] = schedule_df['timeslot'].str.split('_', expand=True)\n",
    "    schedule_df_sorted = schedule_df.sort_values(by=['Day', 'Time'])\n",
    "\n",
    "    # Display the final, sorted schedule\n",
    "    display(schedule_df_sorted[['Day', 'Time', 'course_id', 'teacher_id', 'room_id']])\n",
    "\n",
    "    # --- Save the master schedule to a new CSV file ---\n",
    "    output_filename = \"master_schedule.csv\"\n",
    "    schedule_df_sorted.to_csv(output_filename, index=False)\n",
    "    logging.info(f\"Master schedule saved to '{output_filename}'\")\n",
    "    print(f\"\\n Schedule successfully saved to '{output_filename}'\")\n",
    "    \n",
    "    # --- Display the fitness plot ---\n",
    "    fitness_plot_path = \"master_schedule_fitness.png\"\n",
    "    scheduler.ga_instance.plot_fitness(title=\"Master Schedule - GA Fitness\", save_dir=fitness_plot_path)\n",
    "    logging.info(f\"Fitness plot saved to {fitness_plot_path}\")\n",
    "    print(f\" Fitness plot saved to '{fitness_plot_path}'\")\n",
    "    \n",
    "else:\n",
    "    print(\"No schedule could be generated.\")"
   ]
  },
  {
   "cell_type": "code",
   "execution_count": null,
   "id": "adbfbd07",
   "metadata": {},
   "outputs": [],
   "source": []
  }
 ],
 "metadata": {
  "kernelspec": {
   "display_name": "Python 3",
   "language": "python",
   "name": "python3"
  },
  "language_info": {
   "codemirror_mode": {
    "name": "ipython",
    "version": 3
   },
   "file_extension": ".py",
   "mimetype": "text/x-python",
   "name": "python",
   "nbconvert_exporter": "python",
   "pygments_lexer": "ipython3",
   "version": "3.12.10"
  }
 },
 "nbformat": 4,
 "nbformat_minor": 5
}
