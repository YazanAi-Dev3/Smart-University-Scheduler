{
 "cells": [
  {
   "cell_type": "markdown",
   "id": "a5ad0170",
   "metadata": {},
   "source": [
    "# Part 2: Generating an Optimal Schedule for a Single Student\n",
    "\n",
    "This notebook takes the `master_schedule.csv` generated in Part 1 and finds the best possible, conflict-free schedule for a specific student based on their course registrations."
   ]
  },
  {
   "cell_type": "code",
   "execution_count": 178,
   "id": "e224290c",
   "metadata": {},
   "outputs": [
    {
     "name": "stdout",
     "output_type": "stream",
     "text": [
      "Student scheduler modules imported successfully!\n"
     ]
    }
   ],
   "source": [
    "# Import Libraries and Custom Modules\n",
    "\n",
    "import pandas as pd\n",
    "import logging\n",
    "import time\n",
    "import sys\n",
    "import os\n",
    "\n",
    "# Add the 'src' folder to the Python path to import our modules\n",
    "module_path = os.path.abspath(os.path.join(os.getcwd(), 'src'))\n",
    "if module_path not in sys.path:\n",
    "    sys.path.append(module_path)\n",
    "\n",
    "# Import the specific classes for student scheduling\n",
    "try:\n",
    "    from student_scheduler_ga import StudentData, StudentSchedulerGA\n",
    "    print(\"Student scheduler modules imported successfully!\")\n",
    "except ImportError as e:\n",
    "    print(f\"Error importing modules: {e}\")\n",
    "    print(f\"Please check that the file 'student_scheduler_ga.py' exists in the '{module_path}' directory.\")"
   ]
  },
  {
   "cell_type": "code",
   "execution_count": 179,
   "id": "fa83fd61",
   "metadata": {},
   "outputs": [
    {
     "name": "stderr",
     "output_type": "stream",
     "text": [
      "2025-08-03 18:37:28,664 - INFO     - Logging is configured for the student scheduler notebook.\n"
     ]
    }
   ],
   "source": [
    "# Configure Logging\n",
    "\n",
    "logging.basicConfig(\n",
    "    level=logging.INFO,\n",
    "    format='%(asctime)s - %(levelname)-8s - %(message)s',\n",
    "    force=True # Ensure the config is reapplied in the notebook\n",
    ")\n",
    "\n",
    "logging.info(\"Logging is configured for the student scheduler notebook.\")"
   ]
  },
  {
   "cell_type": "markdown",
   "id": "45ca613e",
   "metadata": {},
   "source": [
    "## 1. Load Input Data\n",
    "\n",
    "First, we'll load the `master_schedule.csv` file we generated in the previous notebook. We also need the `student_registrations.csv` file to identify which courses our target student is registered for."
   ]
  },
  {
   "cell_type": "code",
   "execution_count": 180,
   "id": "e3730def",
   "metadata": {},
   "outputs": [
    {
     "name": "stderr",
     "output_type": "stream",
     "text": [
      "2025-08-03 18:37:28,684 - INFO     - Master schedule and student registrations loaded successfully.\n"
     ]
    },
    {
     "name": "stdout",
     "output_type": "stream",
     "text": [
      "Sample of the Master Schedule data:\n"
     ]
    },
    {
     "data": {
      "text/html": [
       "<div>\n",
       "<style scoped>\n",
       "    .dataframe tbody tr th:only-of-type {\n",
       "        vertical-align: middle;\n",
       "    }\n",
       "\n",
       "    .dataframe tbody tr th {\n",
       "        vertical-align: top;\n",
       "    }\n",
       "\n",
       "    .dataframe thead th {\n",
       "        text-align: right;\n",
       "    }\n",
       "</style>\n",
       "<table border=\"1\" class=\"dataframe\">\n",
       "  <thead>\n",
       "    <tr style=\"text-align: right;\">\n",
       "      <th></th>\n",
       "      <th>course_id</th>\n",
       "      <th>teacher_id</th>\n",
       "      <th>room_id</th>\n",
       "      <th>timeslot</th>\n",
       "      <th>Day</th>\n",
       "      <th>Time</th>\n",
       "    </tr>\n",
       "  </thead>\n",
       "  <tbody>\n",
       "    <tr>\n",
       "      <th>0</th>\n",
       "      <td>CS102</td>\n",
       "      <td>2</td>\n",
       "      <td>R101</td>\n",
       "      <td>Monday_12:00</td>\n",
       "      <td>Monday</td>\n",
       "      <td>12:00</td>\n",
       "    </tr>\n",
       "    <tr>\n",
       "      <th>1</th>\n",
       "      <td>CS102</td>\n",
       "      <td>2</td>\n",
       "      <td>R101</td>\n",
       "      <td>Monday_15:00</td>\n",
       "      <td>Monday</td>\n",
       "      <td>15:00</td>\n",
       "    </tr>\n",
       "    <tr>\n",
       "      <th>2</th>\n",
       "      <td>CS101</td>\n",
       "      <td>1</td>\n",
       "      <td>R201</td>\n",
       "      <td>Sunday_08:00</td>\n",
       "      <td>Sunday</td>\n",
       "      <td>08:00</td>\n",
       "    </tr>\n",
       "    <tr>\n",
       "      <th>3</th>\n",
       "      <td>CS202</td>\n",
       "      <td>1</td>\n",
       "      <td>R102</td>\n",
       "      <td>Sunday_10:00</td>\n",
       "      <td>Sunday</td>\n",
       "      <td>10:00</td>\n",
       "    </tr>\n",
       "    <tr>\n",
       "      <th>4</th>\n",
       "      <td>CS101</td>\n",
       "      <td>1</td>\n",
       "      <td>R201</td>\n",
       "      <td>Sunday_11:00</td>\n",
       "      <td>Sunday</td>\n",
       "      <td>11:00</td>\n",
       "    </tr>\n",
       "  </tbody>\n",
       "</table>\n",
       "</div>"
      ],
      "text/plain": [
       "  course_id  teacher_id room_id      timeslot     Day   Time\n",
       "0     CS102           2    R101  Monday_12:00  Monday  12:00\n",
       "1     CS102           2    R101  Monday_15:00  Monday  15:00\n",
       "2     CS101           1    R201  Sunday_08:00  Sunday  08:00\n",
       "3     CS202           1    R102  Sunday_10:00  Sunday  10:00\n",
       "4     CS101           1    R201  Sunday_11:00  Sunday  11:00"
      ]
     },
     "metadata": {},
     "output_type": "display_data"
    },
    {
     "name": "stdout",
     "output_type": "stream",
     "text": [
      "\n",
      "Sample of the Student Registrations data:\n"
     ]
    },
    {
     "data": {
      "text/html": [
       "<div>\n",
       "<style scoped>\n",
       "    .dataframe tbody tr th:only-of-type {\n",
       "        vertical-align: middle;\n",
       "    }\n",
       "\n",
       "    .dataframe tbody tr th {\n",
       "        vertical-align: top;\n",
       "    }\n",
       "\n",
       "    .dataframe thead th {\n",
       "        text-align: right;\n",
       "    }\n",
       "</style>\n",
       "<table border=\"1\" class=\"dataframe\">\n",
       "  <thead>\n",
       "    <tr style=\"text-align: right;\">\n",
       "      <th></th>\n",
       "      <th>student_id</th>\n",
       "      <th>course_id</th>\n",
       "    </tr>\n",
       "  </thead>\n",
       "  <tbody>\n",
       "    <tr>\n",
       "      <th>0</th>\n",
       "      <td>101</td>\n",
       "      <td>CS101</td>\n",
       "    </tr>\n",
       "    <tr>\n",
       "      <th>1</th>\n",
       "      <td>101</td>\n",
       "      <td>CS102</td>\n",
       "    </tr>\n",
       "    <tr>\n",
       "      <th>2</th>\n",
       "      <td>102</td>\n",
       "      <td>CS201</td>\n",
       "    </tr>\n",
       "    <tr>\n",
       "      <th>3</th>\n",
       "      <td>103</td>\n",
       "      <td>CS101</td>\n",
       "    </tr>\n",
       "    <tr>\n",
       "      <th>4</th>\n",
       "      <td>103</td>\n",
       "      <td>CS201</td>\n",
       "    </tr>\n",
       "  </tbody>\n",
       "</table>\n",
       "</div>"
      ],
      "text/plain": [
       "   student_id course_id\n",
       "0         101     CS101\n",
       "1         101     CS102\n",
       "2         102     CS201\n",
       "3         103     CS101\n",
       "4         103     CS201"
      ]
     },
     "metadata": {},
     "output_type": "display_data"
    }
   ],
   "source": [
    "# Load the master schedule and student registration data\n",
    "\n",
    "try:\n",
    "    # Load the master schedule created by the first notebook\n",
    "    master_schedule_df = pd.read_csv(\"master_schedule.csv\")\n",
    "    \n",
    "    # Load the student registration data from the mock_data folder\n",
    "    registrations_df = pd.read_csv(\"mock_data/student_registrations.csv\")\n",
    "    \n",
    "    logging.info(\"Master schedule and student registrations loaded successfully.\")\n",
    "    \n",
    "    print(\"Sample of the Master Schedule data:\")\n",
    "    display(master_schedule_df.head())\n",
    "    \n",
    "    print(\"\\nSample of the Student Registrations data:\")\n",
    "    display(registrations_df.head())\n",
    "\n",
    "except FileNotFoundError as e:\n",
    "    logging.error(f\"FATAL: {e}. Please ensure 'master_schedule.csv' from the first notebook and 'mock_data/student_registrations.csv' are in the correct locations.\")"
   ]
  },
  {
   "cell_type": "markdown",
   "id": "97f8c6f0",
   "metadata": {},
   "source": [
    "## 2. Select Target Student and Prepare Data\n",
    "\n",
    "Here, we'll specify the ID for the student we want to schedule. We will then use our `StudentData` class to process the data specifically for this student, identifying all the course sections available to them from the master schedule."
   ]
  },
  {
   "cell_type": "code",
   "execution_count": 181,
   "id": "ffa87652",
   "metadata": {},
   "outputs": [
    {
     "name": "stderr",
     "output_type": "stream",
     "text": [
      "2025-08-03 18:37:28,703 - INFO     - Preparing all available lecture options for Student ID: 103\n",
      "2025-08-03 18:37:28,704 - INFO     - Initializing StudentData for student_id: 103\n",
      "2025-08-03 18:37:28,706 - INFO     - Student 103 is registered in 5 courses: ['CS101', 'CS201', 'CS202', 'CS301', 'CS401']\n",
      "2025-08-03 18:37:28,708 - INFO     - Data preparation for the student is complete.\n"
     ]
    },
    {
     "name": "stdout",
     "output_type": "stream",
     "text": [
      "Target Student ID: 103\n",
      "Student is registered in the following courses: ['CS101', 'CS201', 'CS202', 'CS301', 'CS401']\n"
     ]
    }
   ],
   "source": [
    "# Define the student ID and instantiate the StudentData class\n",
    "\n",
    "# You can change this ID to schedule for any other student in the registrations file\n",
    "STUDENT_ID_TO_SCHEDULE = 103 \n",
    "\n",
    "logging.info(f\"Preparing all available lecture options for Student ID: {STUDENT_ID_TO_SCHEDULE}\")\n",
    "\n",
    "try:\n",
    "    student_data = StudentData(\n",
    "        student_id=STUDENT_ID_TO_SCHEDULE, \n",
    "        master_schedule_df=master_schedule_df, \n",
    "        registrations_df=registrations_df\n",
    "    )\n",
    "    \n",
    "    logging.info(\"Data preparation for the student is complete.\")\n",
    "    print(f\"Target Student ID: {student_data.student_id}\")\n",
    "    print(f\"Student is registered in the following courses: {student_data.student_courses}\")\n",
    "\n",
    "except ValueError as e:\n",
    "    logging.error(f\"Could not prepare data for the student: {e}\")\n",
    "except NameError:\n",
    "    logging.error(\"One of the required dataframes is not defined. Please re-run the previous cells.\")\n",
    "except Exception as e:\n",
    "    logging.error(f\"An unexpected error occurred: {e}\")"
   ]
  },
  {
   "cell_type": "markdown",
   "id": "4cc7093c",
   "metadata": {},
   "source": [
    "## 3. Configure and Run the Genetic Algorithm\n",
    "\n",
    "Now we will define the parameters for the student's GA instance, create the scheduler object, and run it to find the optimal schedule."
   ]
  },
  {
   "cell_type": "code",
   "execution_count": 182,
   "id": "3b13bf64",
   "metadata": {},
   "outputs": [
    {
     "name": "stderr",
     "output_type": "stream",
     "text": [
      "2025-08-03 18:37:28,718 - INFO     - Student GA Parameters set: {'generations': 150, 'sol_per_pop': 200, 'parents_mating': 20, 'mutation_percent': 10}\n"
     ]
    },
    {
     "name": "stdout",
     "output_type": "stream",
     "text": [
      "Student scheduler GA parameters have been defined.\n"
     ]
    }
   ],
   "source": [
    "# Define GA Parameters for the student scheduler\n",
    "\n",
    "ga_parameters = {\n",
    "    'generations': 150,\n",
    "    'sol_per_pop': 200,\n",
    "    'parents_mating': 20,\n",
    "    'mutation_percent': 10 \n",
    "}\n",
    "\n",
    "logging.info(f\"Student GA Parameters set: {ga_parameters}\")\n",
    "print(\"Student scheduler GA parameters have been defined.\")"
   ]
  },
  {
   "cell_type": "code",
   "execution_count": 183,
   "id": "7694d88e",
   "metadata": {},
   "outputs": [
    {
     "name": "stderr",
     "output_type": "stream",
     "text": [
      "2025-08-03 18:37:28,745 - INFO     - Initializing StudentSchedulerGA...\n",
      "2025-08-03 18:37:28,754 - INFO     - StudentSchedulerGA instance created successfully.\n",
      "2025-08-03 18:37:28,755 - INFO     - Running GA for student 103...\n",
      "2025-08-03 18:37:28,761 - INFO     - Gen 1 | Best Fitness: 0.025000\n",
      "2025-08-03 18:37:28,765 - INFO     - Gen 2 | Best Fitness: 0.025000\n",
      "2025-08-03 18:37:28,773 - INFO     - Gen 3 | Best Fitness: 0.025000\n",
      "2025-08-03 18:37:28,778 - INFO     - Gen 4 | Best Fitness: 0.025000\n",
      "2025-08-03 18:37:28,783 - INFO     - Gen 5 | Best Fitness: 0.025000\n",
      "2025-08-03 18:37:28,787 - INFO     - Gen 6 | Best Fitness: 0.025000\n",
      "2025-08-03 18:37:28,792 - INFO     - Gen 7 | Best Fitness: 0.025000\n",
      "2025-08-03 18:37:28,795 - INFO     - Gen 8 | Best Fitness: 0.025000\n",
      "2025-08-03 18:37:28,799 - INFO     - Gen 9 | Best Fitness: 0.025000\n",
      "2025-08-03 18:37:28,799 - INFO     - Gen 10 | Best Fitness: 0.025000\n",
      "2025-08-03 18:37:28,809 - INFO     - Gen 11 | Best Fitness: 0.025000\n",
      "2025-08-03 18:37:28,812 - INFO     - Gen 12 | Best Fitness: 0.025000\n",
      "2025-08-03 18:37:28,812 - INFO     - Gen 13 | Best Fitness: 0.025000\n",
      "2025-08-03 18:37:28,820 - INFO     - Gen 14 | Best Fitness: 0.025000\n",
      "2025-08-03 18:37:28,823 - INFO     - Gen 15 | Best Fitness: 0.025000\n",
      "2025-08-03 18:37:28,827 - INFO     - Gen 16 | Best Fitness: 0.025000\n"
     ]
    },
    {
     "name": "stdout",
     "output_type": "stream",
     "text": [
      "\n",
      "Running the Genetic Algorithm to find the best schedule for the student...\n"
     ]
    },
    {
     "name": "stderr",
     "output_type": "stream",
     "text": [
      "2025-08-03 18:37:28,828 - INFO     - Gen 17 | Best Fitness: 0.025000\n",
      "2025-08-03 18:37:28,828 - INFO     - Gen 18 | Best Fitness: 0.025000\n",
      "2025-08-03 18:37:28,828 - INFO     - Gen 19 | Best Fitness: 0.025000\n",
      "2025-08-03 18:37:28,840 - INFO     - Gen 20 | Best Fitness: 0.025000\n",
      "2025-08-03 18:37:28,845 - INFO     - Gen 21 | Best Fitness: 0.025000\n",
      "2025-08-03 18:37:28,849 - INFO     - Gen 22 | Best Fitness: 0.025000\n",
      "2025-08-03 18:37:28,849 - INFO     - Gen 23 | Best Fitness: 0.025000\n",
      "2025-08-03 18:37:28,857 - INFO     - Gen 24 | Best Fitness: 0.025000\n",
      "2025-08-03 18:37:28,863 - INFO     - Gen 25 | Best Fitness: 0.025000\n",
      "2025-08-03 18:37:28,867 - INFO     - Gen 26 | Best Fitness: 0.025000\n",
      "2025-08-03 18:37:28,867 - INFO     - Gen 27 | Best Fitness: 0.025000\n",
      "2025-08-03 18:37:28,872 - INFO     - Gen 28 | Best Fitness: 0.025000\n",
      "2025-08-03 18:37:28,876 - INFO     - Gen 29 | Best Fitness: 0.025000\n",
      "2025-08-03 18:37:28,879 - INFO     - Gen 30 | Best Fitness: 0.025000\n",
      "2025-08-03 18:37:28,879 - INFO     - Gen 31 | Best Fitness: 0.025000\n",
      "2025-08-03 18:37:28,888 - INFO     - Gen 32 | Best Fitness: 0.025000\n",
      "2025-08-03 18:37:28,890 - INFO     - Gen 33 | Best Fitness: 0.025000\n",
      "2025-08-03 18:37:28,895 - INFO     - Gen 34 | Best Fitness: 0.025000\n",
      "2025-08-03 18:37:28,895 - INFO     - Gen 35 | Best Fitness: 0.025000\n",
      "2025-08-03 18:37:28,895 - INFO     - Gen 36 | Best Fitness: 0.025000\n",
      "2025-08-03 18:37:28,905 - INFO     - Gen 37 | Best Fitness: 0.025000\n",
      "2025-08-03 18:37:28,909 - INFO     - Gen 38 | Best Fitness: 0.025000\n",
      "2025-08-03 18:37:28,912 - INFO     - Gen 39 | Best Fitness: 0.025000\n",
      "2025-08-03 18:37:28,912 - INFO     - Gen 40 | Best Fitness: 0.025000\n",
      "2025-08-03 18:37:28,912 - INFO     - Gen 41 | Best Fitness: 0.025000\n",
      "2025-08-03 18:37:28,912 - INFO     - Gen 42 | Best Fitness: 0.025000\n",
      "2025-08-03 18:37:28,925 - INFO     - Gen 43 | Best Fitness: 0.025000\n",
      "2025-08-03 18:37:28,929 - INFO     - Gen 44 | Best Fitness: 0.025000\n",
      "2025-08-03 18:37:28,929 - INFO     - Gen 45 | Best Fitness: 0.025000\n",
      "2025-08-03 18:37:28,938 - INFO     - Gen 46 | Best Fitness: 0.025000\n",
      "2025-08-03 18:37:28,941 - INFO     - Gen 47 | Best Fitness: 0.025000\n",
      "2025-08-03 18:37:28,946 - INFO     - Gen 48 | Best Fitness: 0.025000\n",
      "2025-08-03 18:37:28,947 - INFO     - Gen 49 | Best Fitness: 0.025000\n",
      "2025-08-03 18:37:28,953 - INFO     - Gen 50 | Best Fitness: 0.025000\n",
      "2025-08-03 18:37:28,956 - INFO     - Gen 51 | Best Fitness: 0.025000\n",
      "2025-08-03 18:37:28,961 - INFO     - Gen 52 | Best Fitness: 0.025000\n",
      "2025-08-03 18:37:28,965 - INFO     - Gen 53 | Best Fitness: 0.025000\n",
      "2025-08-03 18:37:28,968 - INFO     - Gen 54 | Best Fitness: 0.025000\n",
      "2025-08-03 18:37:28,969 - INFO     - Gen 55 | Best Fitness: 0.025000\n",
      "2025-08-03 18:37:28,974 - INFO     - Gen 56 | Best Fitness: 0.025000\n",
      "2025-08-03 18:37:28,980 - INFO     - Gen 57 | Best Fitness: 0.025000\n",
      "2025-08-03 18:37:28,980 - INFO     - Gen 58 | Best Fitness: 0.025000\n",
      "2025-08-03 18:37:28,980 - INFO     - Gen 59 | Best Fitness: 0.025000\n",
      "2025-08-03 18:37:28,989 - INFO     - Gen 60 | Best Fitness: 0.025000\n",
      "2025-08-03 18:37:28,994 - INFO     - Gen 61 | Best Fitness: 0.025000\n",
      "2025-08-03 18:37:28,998 - INFO     - Gen 62 | Best Fitness: 0.025000\n",
      "2025-08-03 18:37:29,001 - INFO     - Gen 63 | Best Fitness: 0.025000\n",
      "2025-08-03 18:37:29,001 - INFO     - Gen 64 | Best Fitness: 0.025000\n",
      "2025-08-03 18:37:29,008 - INFO     - Gen 65 | Best Fitness: 0.025000\n",
      "2025-08-03 18:37:29,013 - INFO     - Gen 66 | Best Fitness: 0.025000\n",
      "2025-08-03 18:37:29,016 - INFO     - Gen 67 | Best Fitness: 0.025000\n",
      "2025-08-03 18:37:29,019 - INFO     - Gen 68 | Best Fitness: 0.025000\n",
      "2025-08-03 18:37:29,019 - INFO     - Gen 69 | Best Fitness: 0.025000\n",
      "2025-08-03 18:37:29,027 - INFO     - Gen 70 | Best Fitness: 0.025000\n",
      "2025-08-03 18:37:29,028 - INFO     - Gen 71 | Best Fitness: 0.025000\n",
      "2025-08-03 18:37:29,028 - INFO     - Gen 72 | Best Fitness: 0.025000\n",
      "2025-08-03 18:37:29,028 - INFO     - Gen 73 | Best Fitness: 0.025000\n",
      "2025-08-03 18:37:29,044 - INFO     - Gen 74 | Best Fitness: 0.025000\n",
      "2025-08-03 18:37:29,045 - INFO     - Gen 75 | Best Fitness: 0.025000\n",
      "2025-08-03 18:37:29,045 - INFO     - Gen 76 | Best Fitness: 0.025000\n",
      "2025-08-03 18:37:29,056 - INFO     - Gen 77 | Best Fitness: 0.025000\n",
      "2025-08-03 18:37:29,061 - INFO     - Gen 78 | Best Fitness: 0.025000\n",
      "2025-08-03 18:37:29,063 - INFO     - Gen 79 | Best Fitness: 0.025000\n",
      "2025-08-03 18:37:29,063 - INFO     - Gen 80 | Best Fitness: 0.025000\n",
      "2025-08-03 18:37:29,073 - INFO     - Gen 81 | Best Fitness: 0.025000\n",
      "2025-08-03 18:37:29,075 - INFO     - Gen 82 | Best Fitness: 0.025000\n",
      "2025-08-03 18:37:29,080 - INFO     - Gen 83 | Best Fitness: 0.025000\n",
      "2025-08-03 18:37:29,084 - INFO     - Gen 84 | Best Fitness: 0.025000\n",
      "2025-08-03 18:37:29,089 - INFO     - Gen 85 | Best Fitness: 0.025000\n",
      "2025-08-03 18:37:29,089 - INFO     - Gen 86 | Best Fitness: 0.025000\n",
      "2025-08-03 18:37:29,096 - INFO     - Gen 87 | Best Fitness: 0.025000\n",
      "2025-08-03 18:37:29,099 - INFO     - Gen 88 | Best Fitness: 0.025000\n",
      "2025-08-03 18:37:29,099 - INFO     - Gen 89 | Best Fitness: 0.025000\n",
      "2025-08-03 18:37:29,099 - INFO     - Gen 90 | Best Fitness: 0.025000\n",
      "2025-08-03 18:37:29,111 - INFO     - Gen 91 | Best Fitness: 0.025000\n",
      "2025-08-03 18:37:29,114 - INFO     - Gen 92 | Best Fitness: 0.025000\n",
      "2025-08-03 18:37:29,118 - INFO     - Gen 93 | Best Fitness: 0.025000\n",
      "2025-08-03 18:37:29,118 - INFO     - Gen 94 | Best Fitness: 0.025000\n",
      "2025-08-03 18:37:29,118 - INFO     - Gen 95 | Best Fitness: 0.025000\n",
      "2025-08-03 18:37:29,129 - INFO     - Gen 96 | Best Fitness: 0.025000\n",
      "2025-08-03 18:37:29,129 - INFO     - Gen 97 | Best Fitness: 0.025000\n",
      "2025-08-03 18:37:29,138 - INFO     - Gen 98 | Best Fitness: 0.025000\n",
      "2025-08-03 18:37:29,144 - INFO     - Gen 99 | Best Fitness: 0.025000\n",
      "2025-08-03 18:37:29,148 - INFO     - Gen 100 | Best Fitness: 0.025000\n",
      "2025-08-03 18:37:29,151 - INFO     - Gen 101 | Best Fitness: 0.025000\n",
      "2025-08-03 18:37:29,151 - INFO     - Gen 102 | Best Fitness: 0.025000\n",
      "2025-08-03 18:37:29,161 - INFO     - Gen 103 | Best Fitness: 0.025000\n",
      "2025-08-03 18:37:29,164 - INFO     - Gen 104 | Best Fitness: 0.025000\n",
      "2025-08-03 18:37:29,168 - INFO     - Gen 105 | Best Fitness: 0.025000\n",
      "2025-08-03 18:37:29,173 - INFO     - Gen 106 | Best Fitness: 0.025000\n",
      "2025-08-03 18:37:29,175 - INFO     - Gen 107 | Best Fitness: 0.025000\n",
      "2025-08-03 18:37:29,181 - INFO     - Gen 108 | Best Fitness: 0.025000\n",
      "2025-08-03 18:37:29,184 - INFO     - Gen 109 | Best Fitness: 0.025000\n",
      "2025-08-03 18:37:29,187 - INFO     - Gen 110 | Best Fitness: 0.025000\n",
      "2025-08-03 18:37:29,187 - INFO     - Gen 111 | Best Fitness: 0.025000\n",
      "2025-08-03 18:37:29,195 - INFO     - Gen 112 | Best Fitness: 0.025000\n",
      "2025-08-03 18:37:29,199 - INFO     - Gen 113 | Best Fitness: 0.025000\n",
      "2025-08-03 18:37:29,202 - INFO     - Gen 114 | Best Fitness: 0.025000\n",
      "2025-08-03 18:37:29,202 - INFO     - Gen 115 | Best Fitness: 0.025000\n",
      "2025-08-03 18:37:29,212 - INFO     - Gen 116 | Best Fitness: 0.025000\n",
      "2025-08-03 18:37:29,213 - INFO     - Gen 117 | Best Fitness: 0.025000\n",
      "2025-08-03 18:37:29,213 - INFO     - Gen 118 | Best Fitness: 0.025000\n",
      "2025-08-03 18:37:29,222 - INFO     - Gen 119 | Best Fitness: 0.025000\n",
      "2025-08-03 18:37:29,227 - INFO     - Gen 120 | Best Fitness: 0.025000\n",
      "2025-08-03 18:37:29,231 - INFO     - Gen 121 | Best Fitness: 0.025000\n",
      "2025-08-03 18:37:29,231 - INFO     - Gen 122 | Best Fitness: 0.025000\n",
      "2025-08-03 18:37:29,238 - INFO     - Gen 123 | Best Fitness: 0.025000\n",
      "2025-08-03 18:37:29,242 - INFO     - Gen 124 | Best Fitness: 0.025000\n",
      "2025-08-03 18:37:29,247 - INFO     - Gen 125 | Best Fitness: 0.025000\n",
      "2025-08-03 18:37:29,247 - INFO     - Gen 126 | Best Fitness: 0.025000\n",
      "2025-08-03 18:37:29,255 - INFO     - Gen 127 | Best Fitness: 0.025000\n",
      "2025-08-03 18:37:29,259 - INFO     - Gen 128 | Best Fitness: 0.025000\n",
      "2025-08-03 18:37:29,265 - INFO     - Gen 129 | Best Fitness: 0.025000\n",
      "2025-08-03 18:37:29,268 - INFO     - Gen 130 | Best Fitness: 0.025000\n",
      "2025-08-03 18:37:29,272 - INFO     - Gen 131 | Best Fitness: 0.025000\n",
      "2025-08-03 18:37:29,275 - INFO     - Gen 132 | Best Fitness: 0.025000\n",
      "2025-08-03 18:37:29,280 - INFO     - Gen 133 | Best Fitness: 0.025000\n",
      "2025-08-03 18:37:29,285 - INFO     - Gen 134 | Best Fitness: 0.025000\n",
      "2025-08-03 18:37:29,288 - INFO     - Gen 135 | Best Fitness: 0.025000\n",
      "2025-08-03 18:37:29,291 - INFO     - Gen 136 | Best Fitness: 0.025000\n",
      "2025-08-03 18:37:29,296 - INFO     - Gen 137 | Best Fitness: 0.025000\n",
      "2025-08-03 18:37:29,300 - INFO     - Gen 138 | Best Fitness: 0.025000\n",
      "2025-08-03 18:37:29,305 - INFO     - Gen 139 | Best Fitness: 0.025000\n",
      "2025-08-03 18:37:29,305 - INFO     - Gen 140 | Best Fitness: 0.025000\n",
      "2025-08-03 18:37:29,313 - INFO     - Gen 141 | Best Fitness: 0.025000\n",
      "2025-08-03 18:37:29,317 - INFO     - Gen 142 | Best Fitness: 0.025000\n",
      "2025-08-03 18:37:29,321 - INFO     - Gen 143 | Best Fitness: 0.025000\n",
      "2025-08-03 18:37:29,324 - INFO     - Gen 144 | Best Fitness: 0.025000\n",
      "2025-08-03 18:37:29,328 - INFO     - Gen 145 | Best Fitness: 0.025000\n",
      "2025-08-03 18:37:29,331 - INFO     - Gen 146 | Best Fitness: 0.025000\n",
      "2025-08-03 18:37:29,335 - INFO     - Gen 147 | Best Fitness: 0.025000\n",
      "2025-08-03 18:37:29,340 - INFO     - Gen 148 | Best Fitness: 0.025000\n",
      "2025-08-03 18:37:29,344 - INFO     - Gen 149 | Best Fitness: 0.025000\n",
      "2025-08-03 18:37:29,349 - INFO     - Gen 150 | Best Fitness: 0.025000\n",
      "2025-08-03 18:37:29,350 - INFO     - GA finished.\n"
     ]
    },
    {
     "name": "stdout",
     "output_type": "stream",
     "text": [
      " Execution complete in 0.60 seconds.\n",
      "\n",
      "============================================================\n",
      "---  Optimal Schedule Found for Student ID: 103  ---\n",
      "============================================================\n"
     ]
    },
    {
     "data": {
      "text/html": [
       "<div>\n",
       "<style scoped>\n",
       "    .dataframe tbody tr th:only-of-type {\n",
       "        vertical-align: middle;\n",
       "    }\n",
       "\n",
       "    .dataframe tbody tr th {\n",
       "        vertical-align: top;\n",
       "    }\n",
       "\n",
       "    .dataframe thead th {\n",
       "        text-align: right;\n",
       "    }\n",
       "</style>\n",
       "<table border=\"1\" class=\"dataframe\">\n",
       "  <thead>\n",
       "    <tr style=\"text-align: right;\">\n",
       "      <th></th>\n",
       "      <th>Day</th>\n",
       "      <th>Time</th>\n",
       "      <th>course_id</th>\n",
       "      <th>teacher_id</th>\n",
       "      <th>room_id</th>\n",
       "    </tr>\n",
       "  </thead>\n",
       "  <tbody>\n",
       "    <tr>\n",
       "      <th>2</th>\n",
       "      <td>Sunday</td>\n",
       "      <td>10:00</td>\n",
       "      <td>CS202</td>\n",
       "      <td>1</td>\n",
       "      <td>R102</td>\n",
       "    </tr>\n",
       "    <tr>\n",
       "      <th>0</th>\n",
       "      <td>Sunday</td>\n",
       "      <td>12:00</td>\n",
       "      <td>CS101</td>\n",
       "      <td>1</td>\n",
       "      <td>R102</td>\n",
       "    </tr>\n",
       "    <tr>\n",
       "      <th>3</th>\n",
       "      <td>Thursday</td>\n",
       "      <td>16:00</td>\n",
       "      <td>CS301</td>\n",
       "      <td>3</td>\n",
       "      <td>R101</td>\n",
       "    </tr>\n",
       "    <tr>\n",
       "      <th>4</th>\n",
       "      <td>Tuesday</td>\n",
       "      <td>13:00</td>\n",
       "      <td>CS401</td>\n",
       "      <td>3</td>\n",
       "      <td>R201</td>\n",
       "    </tr>\n",
       "    <tr>\n",
       "      <th>1</th>\n",
       "      <td>Wednesday</td>\n",
       "      <td>10:00</td>\n",
       "      <td>CS201</td>\n",
       "      <td>4</td>\n",
       "      <td>R102</td>\n",
       "    </tr>\n",
       "  </tbody>\n",
       "</table>\n",
       "</div>"
      ],
      "text/plain": [
       "         Day   Time course_id  teacher_id room_id\n",
       "2     Sunday  10:00     CS202           1    R102\n",
       "0     Sunday  12:00     CS101           1    R102\n",
       "3   Thursday  16:00     CS301           3    R101\n",
       "4    Tuesday  13:00     CS401           3    R201\n",
       "1  Wednesday  10:00     CS201           4    R102"
      ]
     },
     "metadata": {},
     "output_type": "display_data"
    },
    {
     "name": "stderr",
     "output_type": "stream",
     "text": [
      "C:\\Users\\LOQ\\AppData\\Local\\Packages\\PythonSoftwareFoundation.Python.3.12_qbz5n2kfra8p0\\LocalCache\\local-packages\\Python312\\site-packages\\pygad\\visualize\\plot.py:120: UserWarning: No artists with labels found to put in legend.  Note that artists whose label start with an underscore are ignored when legend() is called with no argument.\n",
      "  matplt.legend()\n"
     ]
    },
    {
     "data": {
      "image/png": "[encoded data removed]",
      "text/plain": [
       "<Figure size 640x480 with 1 Axes>"
      ]
     },
     "metadata": {},
     "output_type": "display_data"
    },
    {
     "name": "stdout",
     "output_type": "stream",
     "text": [
      "\n",
      " Fitness plot saved to 'student_103_fitness.png'\n"
     ]
    }
   ],
   "source": [
    "# Instantiate the scheduler, run it, and display the final schedule\n",
    "\n",
    "try:\n",
    "    # 1. Instantiate the main scheduler class\n",
    "    student_scheduler = StudentSchedulerGA(student_data, ga_parameters)\n",
    "    logging.info(\"StudentSchedulerGA instance created successfully.\")\n",
    "    \n",
    "    # 2. Run the algorithm\n",
    "    print(\"\\nRunning the Genetic Algorithm to find the best schedule for the student...\")\n",
    "    start_time = time.time()\n",
    "    best_schedule = student_scheduler.run()\n",
    "    end_time = time.time()\n",
    "    print(f\" Execution complete in {end_time - start_time:.2f} seconds.\")\n",
    "\n",
    "    # 3. Display the results\n",
    "    print(\"\\n\" + \"=\"*60)\n",
    "    print(f\"---  Optimal Schedule Found for Student ID: {STUDENT_ID_TO_SCHEDULE}  ---\")\n",
    "    print(\"=\"*60)\n",
    "\n",
    "    schedule_df = pd.DataFrame(best_schedule)\n",
    "    \n",
    "    if not schedule_df.empty:\n",
    "        schedule_df_sorted = schedule_df.sort_values(by=['Day', 'Time'])\n",
    "        display(schedule_df_sorted[['Day', 'Time', 'course_id', 'teacher_id', 'room_id']])\n",
    "        \n",
    "        # 4. Display the fitness plot\n",
    "        fitness_plot_path = f\"student_{STUDENT_ID_TO_SCHEDULE}_fitness.png\"\n",
    "        student_scheduler.ga_instance.plot_fitness(title=f\"Student {STUDENT_ID_TO_SCHEDULE} - Fitness\", save_dir=fitness_plot_path)\n",
    "        print(f\"\\n Fitness plot saved to '{fitness_plot_path}'\")\n",
    "    else:\n",
    "        print(\"No viable schedule could be generated with the given constraints.\")\n",
    "\n",
    "except Exception as e:\n",
    "    logging.error(f\"An error occurred during the final run: {e}\")"
   ]
  },
  {
   "cell_type": "code",
   "execution_count": null,
   "id": "c805d600",
   "metadata": {},
   "outputs": [],
   "source": []
  }
 ],
 "metadata": {
  "kernelspec": {
   "display_name": "Python 3",
   "language": "python",
   "name": "python3"
  },
  "language_info": {
   "codemirror_mode": {
    "name": "ipython",
    "version": 3
   },
   "file_extension": ".py",
   "mimetype": "text/x-python",
   "name": "python",
   "nbconvert_exporter": "python",
   "pygments_lexer": "ipython3",
   "version": "3.12.10"
  }
 },
 "nbformat": 4,
 "nbformat_minor": 5
}
